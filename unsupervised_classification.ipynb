{
 "cells": [
  {
   "cell_type": "markdown",
   "id": "46a829d1",
   "metadata": {},
   "source": [
    "# Unsupervised Machine Learning GEE"
   ]
  },
  {
   "cell_type": "markdown",
   "id": "45e933ee",
   "metadata": {},
   "source": [
    "Unsupervised classification of Landsat-8 image using Kmeans clustering."
   ]
  },
  {
   "cell_type": "markdown",
   "id": "d9fe2a9d",
   "metadata": {},
   "source": [
    "### libraries"
   ]
  },
  {
   "cell_type": "code",
   "execution_count": 2,
   "id": "a80c4971",
   "metadata": {},
   "outputs": [],
   "source": [
    "import ee\n",
    "import geemap"
   ]
  },
  {
   "cell_type": "markdown",
   "id": "3eada5ed",
   "metadata": {},
   "source": [
    "### Interactive Map"
   ]
  },
  {
   "cell_type": "code",
   "execution_count": 3,
   "id": "884ff49d",
   "metadata": {
    "scrolled": false
   },
   "outputs": [
    {
     "data": {
      "application/vnd.jupyter.widget-view+json": {
       "model_id": "4caaa40540ab4b36a6995472f13b10ca",
       "version_major": 2,
       "version_minor": 0
      },
      "text/plain": [
       "Map(center=[-1.3, 36.8], controls=(WidgetControl(options=['position', 'transparent_bg'], widget=HBox(children=…"
      ]
     },
     "metadata": {},
     "output_type": "display_data"
    }
   ],
   "source": [
    "Map = geemap.Map()\n",
    "Map.setCenter(36.8, -1.3, 11)\n",
    "Map"
   ]
  },
  {
   "cell_type": "markdown",
   "id": "e1d52c98",
   "metadata": {},
   "source": [
    "### Add data to map"
   ]
  },
  {
   "cell_type": "code",
   "execution_count": 4,
   "id": "35a8d39e",
   "metadata": {},
   "outputs": [],
   "source": [
    "point = ee.Geometry.Point([36.9, -1.4])\n",
    "\n",
    "image = (\n",
    "    ee.ImageCollection('LANDSAT/LC08/C01/T1_SR')\n",
    "    .filterBounds(point)\n",
    "    .filterDate('2020-01-01', '2020-12-31')\n",
    "    .sort('CLOUD_COVER')\n",
    "    .first()\n",
    "    .select('B[1-7]')\n",
    ")\n",
    "\n",
    "vis_params = {\n",
    "    'min': 0,\n",
    "    'max': 3000,\n",
    "    'bands': ['B5', 'B4', 'B3']\n",
    "}\n",
    "\n",
    "Map.addLayer(image, vis_params, \"Landsat-8\")"
   ]
  },
  {
   "cell_type": "markdown",
   "id": "b9e4c6e2",
   "metadata": {},
   "source": [
    "### Check image properties"
   ]
  },
  {
   "cell_type": "code",
   "execution_count": 5,
   "id": "f436d254",
   "metadata": {},
   "outputs": [
    {
     "data": {
      "text/plain": [
       "{'CLOUD_COVER': 1.3,\n",
       " 'CLOUD_COVER_LAND': 1.3,\n",
       " 'EARTH_SUN_DISTANCE': 0.988637,\n",
       " 'ESPA_VERSION': '2_23_0_1b',\n",
       " 'GEOMETRIC_RMSE_MODEL': 7.564,\n",
       " 'GEOMETRIC_RMSE_MODEL_X': 5.101,\n",
       " 'GEOMETRIC_RMSE_MODEL_Y': 5.586,\n",
       " 'IMAGE_DATE': '2020-02-20',\n",
       " 'IMAGE_QUALITY_OLI': 9,\n",
       " 'IMAGE_QUALITY_TIRS': 9,\n",
       " 'LANDSAT_ID': 'LC08_L1TP_168061_20200220_20200225_01_T1',\n",
       " 'LEVEL1_PRODUCTION_DATE': 1582645024000,\n",
       " 'NOMINAL_SCALE': 30,\n",
       " 'PIXEL_QA_VERSION': 'generate_pixel_qa_1.6.0',\n",
       " 'SATELLITE': 'LANDSAT_8',\n",
       " 'SENSING_TIME': '2020-02-20T07:43:11.8975180Z',\n",
       " 'SOLAR_AZIMUTH_ANGLE': 108.893326,\n",
       " 'SOLAR_ZENITH_ANGLE': 31.808987,\n",
       " 'SR_APP_VERSION': 'LaSRC_1.3.0',\n",
       " 'WRS_PATH': 168,\n",
       " 'WRS_ROW': 61,\n",
       " 'system:asset_size': '619.541719 MB',\n",
       " 'system:band_names': ['B1', 'B2', 'B3', 'B4', 'B5', 'B6', 'B7'],\n",
       " 'system:id': 'LANDSAT/LC08/C01/T1_SR/LC08_168061_20200220',\n",
       " 'system:index': 'LC08_168061_20200220',\n",
       " 'system:time_end': '2020-02-20 07:43:11',\n",
       " 'system:time_start': '2020-02-20 07:43:11',\n",
       " 'system:version': 1582963693435838}"
      ]
     },
     "execution_count": 5,
     "metadata": {},
     "output_type": "execute_result"
    }
   ],
   "source": [
    "props = geemap.image_props(image)\n",
    "props.getInfo()"
   ]
  },
  {
   "cell_type": "markdown",
   "id": "0d8a66d3",
   "metadata": {},
   "source": [
    "### Make trainiing dataset"
   ]
  },
  {
   "cell_type": "markdown",
   "id": "ad3fe815",
   "metadata": {},
   "source": [
    "Create a region for generating training dataset.\n",
    "1. Draw a shape.\n",
    "2. Define Geometry\n",
    "3. Create a buffer zone from a point\n",
    "4. If no region is defined, it will use image footprint by default"
   ]
  },
  {
   "cell_type": "code",
   "execution_count": 6,
   "id": "57350ef9",
   "metadata": {},
   "outputs": [],
   "source": [
    "#regions\n",
    "region = ee.Geometry.Point(point.buffer(10000))"
   ]
  },
  {
   "cell_type": "code",
   "execution_count": 7,
   "id": "11648e10",
   "metadata": {},
   "outputs": [
    {
     "data": {
      "application/vnd.jupyter.widget-view+json": {
       "model_id": "4caaa40540ab4b36a6995472f13b10ca",
       "version_major": 2,
       "version_minor": 0
      },
      "text/plain": [
       "Map(center=[-1.3, 36.8], controls=(WidgetControl(options=['position', 'transparent_bg'], widget=HBox(children=…"
      ]
     },
     "metadata": {},
     "output_type": "display_data"
    }
   ],
   "source": [
    "training = image.sample(\n",
    "  **{\n",
    "        #     'region': region,\n",
    "        'scale': 30,\n",
    "        'numPixels': 5000,\n",
    "        'seed': 0,\n",
    "        'geometries': True,  # Set this to False to ignore geometries\n",
    "    }  \n",
    ")\n",
    "\n",
    "Map.addLayer(training, {}, 'training', False)\n",
    "Map"
   ]
  },
  {
   "cell_type": "markdown",
   "id": "f2e94f0f",
   "metadata": {},
   "source": [
    "#### Train the clusterer"
   ]
  },
  {
   "cell_type": "code",
   "execution_count": 8,
   "id": "d918b302",
   "metadata": {},
   "outputs": [],
   "source": [
    "#create cluster instance and train it\n",
    "num_clusters = 5\n",
    "clusterer = ee.Clusterer.wekaKMeans(num_clusters).train(training)"
   ]
  },
  {
   "cell_type": "code",
   "execution_count": 9,
   "id": "264ee496",
   "metadata": {},
   "outputs": [
    {
     "data": {
      "application/vnd.jupyter.widget-view+json": {
       "model_id": "4caaa40540ab4b36a6995472f13b10ca",
       "version_major": 2,
       "version_minor": 0
      },
      "text/plain": [
       "Map(center=[-1.3, 36.8], controls=(WidgetControl(options=['position', 'transparent_bg'], widget=HBox(children=…"
      ]
     },
     "metadata": {},
     "output_type": "display_data"
    }
   ],
   "source": [
    "#cluster the input using trained clusterer\n",
    "result = image.cluster(clusterer)\n",
    "\n",
    "#visualize the clusters with random colors.\n",
    "Map.addLayer(result.randomVisualizer(), {}, 'clusters')\n",
    "Map"
   ]
  },
  {
   "cell_type": "markdown",
   "id": "ad25d8c5",
   "metadata": {},
   "source": [
    "### Label clusters"
   ]
  },
  {
   "cell_type": "code",
   "execution_count": 10,
   "id": "9babcfd9",
   "metadata": {
    "scrolled": false
   },
   "outputs": [
    {
     "data": {
      "application/vnd.jupyter.widget-view+json": {
       "model_id": "4caaa40540ab4b36a6995472f13b10ca",
       "version_major": 2,
       "version_minor": 0
      },
      "text/plain": [
       "Map(center=[-1.3, 36.8], controls=(WidgetControl(options=['position', 'transparent_bg'], widget=HBox(children=…"
      ]
     },
     "metadata": {},
     "output_type": "display_data"
    }
   ],
   "source": [
    "legend_keys = ['One', 'Two', 'Three', 'Four', 'ect']\n",
    "legend_colors = ['#8DD3C7', '#FFFFB3', '#BEBADA', '#FB8072', '#80B1D3']\n",
    "\n",
    "#Reclassify map\n",
    "result = result.remap([0, 1, 2, 3, 4], [1, 2, 3, 4, 5])\n",
    "\n",
    "#legend colors\n",
    "Map.addLayer(\n",
    "    result, {'min': 1, 'max': 5, 'palette': legend_colors}, 'Labelled clusters'\n",
    ")\n",
    "#add legend\n",
    "Map.add_legend(\n",
    "    legend_keys=legend_keys, legend_colors=legend_colors, position='bottomright'\n",
    ")\n",
    "Map"
   ]
  },
  {
   "cell_type": "markdown",
   "id": "684a65c9",
   "metadata": {},
   "source": [
    "### visualize"
   ]
  },
  {
   "cell_type": "code",
   "execution_count": 11,
   "id": "63b41f63",
   "metadata": {},
   "outputs": [
    {
     "name": "stdout",
     "output_type": "stream",
     "text": [
      "Change layer opacity:\n"
     ]
    },
    {
     "data": {
      "application/vnd.jupyter.widget-view+json": {
       "model_id": "8effa74f6a4348189ab0701c614b53bb",
       "version_major": 2,
       "version_minor": 0
      },
      "text/plain": [
       "Box(children=(FloatSlider(value=1.0, description='opacity', max=1.0),))"
      ]
     },
     "metadata": {},
     "output_type": "display_data"
    }
   ],
   "source": [
    "print('Change layer opacity:')\n",
    "cluster_layer = Map.layers[-1]\n",
    "cluster_layer.interact(opacity=(0, 1, 0.1))"
   ]
  },
  {
   "cell_type": "markdown",
   "id": "dcf40ee0",
   "metadata": {},
   "source": [
    "### Save to device"
   ]
  },
  {
   "cell_type": "code",
   "execution_count": 13,
   "id": "d348a2f3",
   "metadata": {},
   "outputs": [
    {
     "name": "stdout",
     "output_type": "stream",
     "text": [
      "Generating URL ...\n",
      "Downloading data from https://earthengine.googleapis.com/v1alpha/projects/earthengine-legacy/thumbnails/cfbb53416797d5c6b9bee38a919161aa-03200e60364db9859139a58a6521420a:getPixels\n",
      "Please wait ...\n",
      "Data downloaded to /home/jeff/gisData/classification/gee/unsupervised/cluster.tif\n"
     ]
    }
   ],
   "source": [
    "import os\n",
    "\n",
    "out_dir = os.path.join(os.path.expanduser('~'), 'gisData/classification/gee/unsupervised')\n",
    "out_file = os.path.join(out_dir, 'cluster.tif')\n",
    "\n",
    "geemap.ee_export_image(result, filename=out_file, scale=90)"
   ]
  }
 ],
 "metadata": {
  "kernelspec": {
   "display_name": "Python 3 (ipykernel)",
   "language": "python",
   "name": "python3"
  },
  "language_info": {
   "codemirror_mode": {
    "name": "ipython",
    "version": 3
   },
   "file_extension": ".py",
   "mimetype": "text/x-python",
   "name": "python",
   "nbconvert_exporter": "python",
   "pygments_lexer": "ipython3",
   "version": "3.8.13"
  }
 },
 "nbformat": 4,
 "nbformat_minor": 5
}
