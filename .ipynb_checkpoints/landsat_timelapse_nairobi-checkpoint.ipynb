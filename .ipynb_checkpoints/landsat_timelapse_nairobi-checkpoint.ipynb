{
 "cells": [
  {
   "cell_type": "markdown",
   "id": "e98a4b4a",
   "metadata": {},
   "source": [
    "# Landsat Timelapse Nairobi"
   ]
  },
  {
   "cell_type": "markdown",
   "id": "c23aa480",
   "metadata": {},
   "source": [
    "## libraries"
   ]
  },
  {
   "cell_type": "code",
   "execution_count": 2,
   "id": "41f622e1",
   "metadata": {},
   "outputs": [],
   "source": [
    "import geemap\n",
    "import os\n",
    "import ee"
   ]
  },
  {
   "cell_type": "markdown",
   "id": "fbd75393",
   "metadata": {},
   "source": [
    "## Interactive map"
   ]
  },
  {
   "cell_type": "code",
   "execution_count": 73,
   "id": "3817e233",
   "metadata": {
    "scrolled": true
   },
   "outputs": [
    {
     "data": {
      "application/vnd.jupyter.widget-view+json": {
       "model_id": "2786f4f9ebdb4fb49b891a3eda37ef91",
       "version_major": 2,
       "version_minor": 0
      },
      "text/plain": [
       "Map(center=[-1.5, 36.9], controls=(WidgetControl(options=['position', 'transparent_bg'], widget=HBox(children=…"
      ]
     },
     "metadata": {},
     "output_type": "display_data"
    }
   ],
   "source": [
    "Map = geemap.Map()\n",
    "Map.setCenter(36.9, -1.5, 10)\n",
    "Map"
   ]
  },
  {
   "cell_type": "code",
   "execution_count": 59,
   "id": "0a94f4e1",
   "metadata": {},
   "outputs": [],
   "source": [
    "##roi = Map.draw_last_feature"
   ]
  },
  {
   "cell_type": "markdown",
   "id": "142bf673",
   "metadata": {},
   "source": [
    "## Landsat timelapse"
   ]
  },
  {
   "cell_type": "code",
   "execution_count": 60,
   "id": "f742f812",
   "metadata": {},
   "outputs": [],
   "source": [
    "out_dir = os.path.join(os.path.expanduser(\"~\"), 'gisData/timelapse')\n",
    "if not os.path.exists(out_dir):\n",
    "    os.makedirs(out_dir)"
   ]
  },
  {
   "cell_type": "code",
   "execution_count": 61,
   "id": "ac1eada1",
   "metadata": {},
   "outputs": [
    {
     "name": "stdout",
     "output_type": "stream",
     "text": [
      "Generating URL...\n",
      "Downloading GIF image from https://earthengine.googleapis.com/v1alpha/projects/earthengine-legacy/videoThumbnails/7b970282c0635833bce8201069a2a9a7-82642e140cba3322832d865930737559:getPixels\n",
      "Please wait ...\n",
      "The GIF image has been saved to: /tmp/17286ce6-fe58-4547-b0f0-d9d3c7f0b491.gif\n",
      "Adding GIF to the map ...\n",
      "The timelapse has been added to the map.\n"
     ]
    }
   ],
   "source": [
    "label = 'Urban Growth in Nairobi'\n",
    "nai_gif =Map.add_landsat_ts_gif(\n",
    "    label=label,\n",
    "    start_year=1995,\n",
    "    bands=['Red', 'Green', 'Blue'],\n",
    "    font_color='white',\n",
    "    frames_per_second=10,\n",
    "    progress_bar_color='blue',\n",
    ")"
   ]
  }
 ],
 "metadata": {
  "celltoolbar": "Raw Cell Format",
  "kernelspec": {
   "display_name": "Python 3 (ipykernel)",
   "language": "python",
   "name": "python3"
  },
  "language_info": {
   "codemirror_mode": {
    "name": "ipython",
    "version": 3
   },
   "file_extension": ".py",
   "mimetype": "text/x-python",
   "name": "python",
   "nbconvert_exporter": "python",
   "pygments_lexer": "ipython3",
   "version": "3.8.13"
  }
 },
 "nbformat": 4,
 "nbformat_minor": 5
}
