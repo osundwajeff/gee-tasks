{
 "cells": [
  {
   "cell_type": "markdown",
   "id": "incomplete-latex",
   "metadata": {},
   "source": [
    "# Intro to GEE"
   ]
  },
  {
   "cell_type": "markdown",
   "id": "unsigned-corruption",
   "metadata": {},
   "source": [
    "## Libraries"
   ]
  },
  {
   "cell_type": "code",
   "execution_count": 1,
   "id": "close-vertex",
   "metadata": {},
   "outputs": [],
   "source": [
    "#import earthengine_api\n",
    "import ee\n",
    "import geemap\n",
    "import leafmap"
   ]
  },
  {
   "cell_type": "markdown",
   "id": "broadband-cannon",
   "metadata": {},
   "source": [
    "## Aunthenticate"
   ]
  },
  {
   "cell_type": "code",
   "execution_count": null,
   "id": "urban-framework",
   "metadata": {},
   "outputs": [
    {
     "data": {
      "text/html": [
       "<p>To authorize access needed by Earth Engine, open the following\n",
       "        URL in a web browser and follow the instructions:</p>\n",
       "        <p><a href=https://accounts.google.com/o/oauth2/auth?client_id=517222506229-vsmmajv00ul0bs7p89v5m89qs8eb9359.apps.googleusercontent.com&scope=https%3A%2F%2Fwww.googleapis.com%2Fauth%2Fearthengine+https%3A%2F%2Fwww.googleapis.com%2Fauth%2Fdevstorage.full_control&redirect_uri=urn%3Aietf%3Awg%3Aoauth%3A2.0%3Aoob&response_type=code&code_challenge=aqyOw1AI4FiI8wtZtAcZckSM79BewsGiZbYtpCIL_Ow&code_challenge_method=S256>https://accounts.google.com/o/oauth2/auth?client_id=517222506229-vsmmajv00ul0bs7p89v5m89qs8eb9359.apps.googleusercontent.com&scope=https%3A%2F%2Fwww.googleapis.com%2Fauth%2Fearthengine+https%3A%2F%2Fwww.googleapis.com%2Fauth%2Fdevstorage.full_control&redirect_uri=urn%3Aietf%3Awg%3Aoauth%3A2.0%3Aoob&response_type=code&code_challenge=aqyOw1AI4FiI8wtZtAcZckSM79BewsGiZbYtpCIL_Ow&code_challenge_method=S256</a></p>\n",
       "        <p>The authorization workflow will generate a code, which you\n",
       "        should paste in the box below</p>\n",
       "        "
      ],
      "text/plain": [
       "<IPython.core.display.HTML object>"
      ]
     },
     "metadata": {},
     "output_type": "display_data"
    }
   ],
   "source": [
    "ee.Authenticate()\n",
    "ee.Initialize()"
   ]
  },
  {
   "cell_type": "markdown",
   "id": "hindu-proposal",
   "metadata": {},
   "source": [
    "Create an Interactive Map"
   ]
  },
  {
   "cell_type": "code",
   "execution_count": 2,
   "id": "incorrect-person",
   "metadata": {},
   "outputs": [
    {
     "data": {
      "application/vnd.jupyter.widget-view+json": {
       "model_id": "c70bdfc3e46148b6af798b6d3a0ad0d4",
       "version_major": 2,
       "version_minor": 0
      },
      "text/plain": [
       "Map(center=[40, -100], controls=(WidgetControl(options=['position', 'transparent_bg'], widget=HBox(children=(T…"
      ]
     },
     "metadata": {},
     "output_type": "display_data"
    }
   ],
   "source": [
    "Map = geemap.Map(center = (40, -100), zoom = 4)\n",
    "Map"
   ]
  },
  {
   "cell_type": "markdown",
   "id": "lovely-ground",
   "metadata": {},
   "source": [
    "## Add EarthEngine data"
   ]
  },
  {
   "cell_type": "code",
   "execution_count": 3,
   "id": "laughing-sodium",
   "metadata": {},
   "outputs": [],
   "source": [
    "#load earth engine datasets\n",
    "dem = ee.Image('USGS/SRTMGL1_003')\n",
    "landcover = ee.Image(\"ESA/GLOBCOVER_L4_200901_200912_V2_3\").select('landcover')\n",
    "landsat7 = ee.Image('LE7_TOA_5YEAR/1999_2003')\n",
    "states = ee.FeatureCollection('TIGER/2018/States')"
   ]
  },
  {
   "cell_type": "markdown",
   "id": "coordinate-implementation",
   "metadata": {},
   "source": [
    "## Set Visualization Parameters"
   ]
  },
  {
   "cell_type": "code",
   "execution_count": 4,
   "id": "hindu-velvet",
   "metadata": {},
   "outputs": [],
   "source": [
    "dem_vis = {\n",
    "'min': 0,\n",
    "'max': 4000,\n",
    "'palette': ['006633', 'E5FFCC', '662A00', 'D8D8D8', 'F5F5F5']}\n",
    "\n",
    "landsat_vis = {\n",
    "    'min': 20,\n",
    "    'max': 200,\n",
    "    'bands': ['B4', 'B3', 'B2']\n",
    "}\n"
   ]
  },
  {
   "cell_type": "markdown",
   "id": "sticky-prescription",
   "metadata": {},
   "source": [
    "## Display data on Map"
   ]
  },
  {
   "cell_type": "code",
   "execution_count": 5,
   "id": "polished-counter",
   "metadata": {},
   "outputs": [],
   "source": [
    "Map.addLayer(dem, dem_vis, 'SRTM DEM', True, 0.5)\n",
    "Map.addLayer(landcover, {}, 'Land Cover')\n",
    "Map.addLayer(landsat7, landsat_vis, 'Landsat 7')\n",
    "Map.addLayer(states, {}, \"US States\")"
   ]
  },
  {
   "cell_type": "code",
   "execution_count": 7,
   "id": "authentic-waterproof",
   "metadata": {},
   "outputs": [
    {
     "data": {
      "application/vnd.jupyter.widget-view+json": {
       "model_id": "c70bdfc3e46148b6af798b6d3a0ad0d4",
       "version_major": 2,
       "version_minor": 0
      },
      "text/plain": [
       "Map(bottom=1861.0, center=[39.30029918615029, -97.20703125000001], controls=(WidgetControl(options=['position'…"
      ]
     },
     "metadata": {},
     "output_type": "display_data"
    }
   ],
   "source": [
    "Map"
   ]
  }
 ],
 "metadata": {
  "kernelspec": {
   "display_name": "Python 3",
   "language": "python",
   "name": "python3"
  },
  "language_info": {
   "codemirror_mode": {
    "name": "ipython",
    "version": 3
   },
   "file_extension": ".py",
   "mimetype": "text/x-python",
   "name": "python",
   "nbconvert_exporter": "python",
   "pygments_lexer": "ipython3",
   "version": "3.8.13"
  }
 },
 "nbformat": 4,
 "nbformat_minor": 5
}
